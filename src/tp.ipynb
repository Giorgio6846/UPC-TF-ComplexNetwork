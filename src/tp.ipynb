{
  "cells": [
    {
      "cell_type": "code",
      "execution_count": 18,
      "id": "0cc4a387",
      "metadata": {},
      "outputs": [],
      "source": [
        "import pandas as pd\n",
        "import matplotlib.pyplot as plt\n",
        "import seaborn as sns\n",
        "import networkx as nx\n",
        "from networkx.algorithms import bipartite\n",
        "import numpy as np"
      ]
    },
    {
      "cell_type": "code",
      "execution_count": 19,
      "id": "99eefe32",
      "metadata": {},
      "outputs": [],
      "source": [
        "df = pd.read_excel(\"../data/datosRed.xlsx\")"
      ]
    },
    {
      "cell_type": "code",
      "execution_count": 20,
      "id": "62d85a69",
      "metadata": {},
      "outputs": [
        {
          "data": {
            "application/vnd.microsoft.datawrangler.viewer.v0+json": {
              "columns": [
                {
                  "name": "index",
                  "rawType": "int64",
                  "type": "integer"
                },
                {
                  "name": "AÑO",
                  "rawType": "int64",
                  "type": "integer"
                },
                {
                  "name": "PERSONA",
                  "rawType": "object",
                  "type": "string"
                },
                {
                  "name": "TIPO DE SERVICIO",
                  "rawType": "object",
                  "type": "string"
                },
                {
                  "name": "NOMBRE DE LA TAREA",
                  "rawType": "object",
                  "type": "string"
                },
                {
                  "name": "MODALIDAD",
                  "rawType": "object",
                  "type": "string"
                },
                {
                  "name": "COMPLEJIDAD",
                  "rawType": "object",
                  "type": "string"
                }
              ],
              "ref": "a7c032ff-20b8-4ce0-add0-76984d1d1c01",
              "rows": [
                [
                  "0",
                  "2019",
                  "ID_1",
                  "SERV_1",
                  "TAREA_1.1",
                  "PRESENCIAL",
                  "BAJA"
                ],
                [
                  "1",
                  "2019",
                  "ID_2",
                  "SERV_1",
                  "TAREA_1.1",
                  "PRESENCIAL",
                  "BAJA"
                ],
                [
                  "2",
                  "2019",
                  "ID_3",
                  "SERV_1",
                  "TAREA_1.1",
                  "PRESENCIAL",
                  "BAJA"
                ],
                [
                  "3",
                  "2019",
                  "ID_4",
                  "SERV_1",
                  "TAREA_1.1",
                  "PRESENCIAL",
                  "BAJA"
                ],
                [
                  "4",
                  "2019",
                  "ID_5",
                  "SERV_1",
                  "TAREA_1.1",
                  "PRESENCIAL",
                  "BAJA"
                ],
                [
                  "5",
                  "2019",
                  "ID_6",
                  "SERV_1",
                  "TAREA_1.1",
                  "PRESENCIAL",
                  "BAJA"
                ],
                [
                  "6",
                  "2019",
                  "ID_7",
                  "SERV_1",
                  "TAREA_1.1",
                  "PRESENCIAL",
                  "BAJA"
                ],
                [
                  "7",
                  "2019",
                  "ID_8",
                  "SERV_1",
                  "TAREA_1.1",
                  "PRESENCIAL",
                  "BAJA"
                ],
                [
                  "8",
                  "2019",
                  "ID_9",
                  "SERV_1",
                  "TAREA_1.1",
                  "PRESENCIAL",
                  "BAJA"
                ],
                [
                  "9",
                  "2019",
                  "ID_10",
                  "SERV_1",
                  "TAREA_1.1",
                  "PRESENCIAL",
                  "BAJA"
                ],
                [
                  "10",
                  "2019",
                  "ID_11",
                  "SERV_1",
                  "TAREA_1.1",
                  "PRESENCIAL",
                  "BAJA"
                ],
                [
                  "11",
                  "2019",
                  "ID_12",
                  "SERV_1",
                  "TAREA_1.1",
                  "PRESENCIAL",
                  "BAJA"
                ],
                [
                  "12",
                  "2019",
                  "ID_13",
                  "SERV_1",
                  "TAREA_1.1",
                  "PRESENCIAL",
                  "BAJA"
                ],
                [
                  "13",
                  "2019",
                  "ID_14",
                  "SERV_1",
                  "TAREA_1.1",
                  "PRESENCIAL",
                  "BAJA"
                ],
                [
                  "14",
                  "2019",
                  "ID_15",
                  "SERV_1",
                  "TAREA_1.1",
                  "PRESENCIAL",
                  "BAJA"
                ],
                [
                  "15",
                  "2019",
                  "ID_16",
                  "SERV_1",
                  "TAREA_1.1",
                  "PRESENCIAL",
                  "BAJA"
                ],
                [
                  "16",
                  "2019",
                  "ID_17",
                  "SERV_1",
                  "TAREA_1.1",
                  "PRESENCIAL",
                  "BAJA"
                ],
                [
                  "17",
                  "2019",
                  "ID_18",
                  "SERV_1",
                  "TAREA_1.1",
                  "PRESENCIAL",
                  "BAJA"
                ],
                [
                  "18",
                  "2019",
                  "ID_19",
                  "SERV_1",
                  "TAREA_1.1",
                  "PRESENCIAL",
                  "BAJA"
                ],
                [
                  "19",
                  "2019",
                  "ID_20",
                  "SERV_1",
                  "TAREA_1.1",
                  "PRESENCIAL",
                  "BAJA"
                ],
                [
                  "20",
                  "2019",
                  "ID_21",
                  "SERV_1",
                  "TAREA_1.1",
                  "PRESENCIAL",
                  "BAJA"
                ],
                [
                  "21",
                  "2019",
                  "ID_22",
                  "SERV_1",
                  "TAREA_1.1",
                  "PRESENCIAL",
                  "BAJA"
                ],
                [
                  "22",
                  "2019",
                  "ID_23",
                  "SERV_1",
                  "TAREA_1.1",
                  "PRESENCIAL",
                  "BAJA"
                ],
                [
                  "23",
                  "2019",
                  "ID_24",
                  "SERV_1",
                  "TAREA_1.1",
                  "PRESENCIAL",
                  "BAJA"
                ],
                [
                  "24",
                  "2019",
                  "ID_25",
                  "SERV_1",
                  "TAREA_1.1",
                  "PRESENCIAL",
                  "BAJA"
                ],
                [
                  "25",
                  "2019",
                  "ID_26",
                  "SERV_1",
                  "TAREA_1.1",
                  "PRESENCIAL",
                  "BAJA"
                ],
                [
                  "26",
                  "2019",
                  "ID_27",
                  "SERV_1",
                  "TAREA_1.1",
                  "PRESENCIAL",
                  "BAJA"
                ],
                [
                  "27",
                  "2019",
                  "ID_28",
                  "SERV_1",
                  "TAREA_1.1",
                  "PRESENCIAL",
                  "BAJA"
                ],
                [
                  "28",
                  "2019",
                  "ID_29",
                  "SERV_1",
                  "TAREA_1.1",
                  "PRESENCIAL",
                  "BAJA"
                ],
                [
                  "29",
                  "2019",
                  "ID_30",
                  "SERV_1",
                  "TAREA_1.1",
                  "PRESENCIAL",
                  "BAJA"
                ],
                [
                  "30",
                  "2019",
                  "ID_31",
                  "SERV_1",
                  "TAREA_1.1",
                  "PRESENCIAL",
                  "BAJA"
                ],
                [
                  "31",
                  "2019",
                  "ID_32",
                  "SERV_1",
                  "TAREA_1.1",
                  "PRESENCIAL",
                  "BAJA"
                ],
                [
                  "32",
                  "2019",
                  "ID_33",
                  "SERV_1",
                  "TAREA_1.1",
                  "PRESENCIAL",
                  "BAJA"
                ],
                [
                  "33",
                  "2019",
                  "ID_34",
                  "SERV_1",
                  "TAREA_1.1",
                  "PRESENCIAL",
                  "BAJA"
                ],
                [
                  "34",
                  "2019",
                  "ID_35",
                  "SERV_1",
                  "TAREA_1.1",
                  "PRESENCIAL",
                  "BAJA"
                ],
                [
                  "35",
                  "2019",
                  "ID_36",
                  "SERV_1",
                  "TAREA_1.1",
                  "PRESENCIAL",
                  "BAJA"
                ],
                [
                  "36",
                  "2019",
                  "ID_37",
                  "SERV_1",
                  "TAREA_1.1",
                  "PRESENCIAL",
                  "BAJA"
                ],
                [
                  "37",
                  "2019",
                  "ID_38",
                  "SERV_1",
                  "TAREA_1.1",
                  "PRESENCIAL",
                  "BAJA"
                ],
                [
                  "38",
                  "2019",
                  "ID_39",
                  "SERV_1",
                  "TAREA_1.1",
                  "PRESENCIAL",
                  "BAJA"
                ],
                [
                  "39",
                  "2019",
                  "ID_40",
                  "SERV_1",
                  "TAREA_1.1",
                  "PRESENCIAL",
                  "BAJA"
                ],
                [
                  "40",
                  "2019",
                  "ID_41",
                  "SERV_1",
                  "TAREA_1.1",
                  "PRESENCIAL",
                  "BAJA"
                ],
                [
                  "41",
                  "2019",
                  "ID_33",
                  "SERV_1",
                  "TAREA_1.1",
                  "PRESENCIAL",
                  "BAJA"
                ],
                [
                  "42",
                  "2019",
                  "ID_30",
                  "SERV_1",
                  "TAREA_1.1",
                  "PRESENCIAL",
                  "BAJA"
                ],
                [
                  "43",
                  "2019",
                  "ID_39",
                  "SERV_1",
                  "TAREA_1.1",
                  "PRESENCIAL",
                  "BAJA"
                ],
                [
                  "44",
                  "2019",
                  "ID_42",
                  "SERV_1",
                  "TAREA_1.1",
                  "PRESENCIAL",
                  "BAJA"
                ],
                [
                  "45",
                  "2019",
                  "ID_43",
                  "SERV_1",
                  "TAREA_1.1",
                  "PRESENCIAL",
                  "BAJA"
                ],
                [
                  "46",
                  "2019",
                  "ID_44",
                  "SERV_1",
                  "TAREA_1.1",
                  "PRESENCIAL",
                  "BAJA"
                ],
                [
                  "47",
                  "2019",
                  "ID_45",
                  "SERV_1",
                  "TAREA_1.1",
                  "PRESENCIAL",
                  "BAJA"
                ],
                [
                  "48",
                  "2019",
                  "ID_24",
                  "SERV_1",
                  "TAREA_1.1",
                  "PRESENCIAL",
                  "BAJA"
                ],
                [
                  "49",
                  "2019",
                  "ID_6",
                  "SERV_1",
                  "TAREA_1.1",
                  "PRESENCIAL",
                  "BAJA"
                ]
              ],
              "shape": {
                "columns": 6,
                "rows": 10384
              }
            },
            "text/html": [
              "<div>\n",
              "<style scoped>\n",
              "    .dataframe tbody tr th:only-of-type {\n",
              "        vertical-align: middle;\n",
              "    }\n",
              "\n",
              "    .dataframe tbody tr th {\n",
              "        vertical-align: top;\n",
              "    }\n",
              "\n",
              "    .dataframe thead th {\n",
              "        text-align: right;\n",
              "    }\n",
              "</style>\n",
              "<table border=\"1\" class=\"dataframe\">\n",
              "  <thead>\n",
              "    <tr style=\"text-align: right;\">\n",
              "      <th></th>\n",
              "      <th>AÑO</th>\n",
              "      <th>PERSONA</th>\n",
              "      <th>TIPO DE SERVICIO</th>\n",
              "      <th>NOMBRE DE LA TAREA</th>\n",
              "      <th>MODALIDAD</th>\n",
              "      <th>COMPLEJIDAD</th>\n",
              "    </tr>\n",
              "  </thead>\n",
              "  <tbody>\n",
              "    <tr>\n",
              "      <th>0</th>\n",
              "      <td>2019</td>\n",
              "      <td>ID_1</td>\n",
              "      <td>SERV_1</td>\n",
              "      <td>TAREA_1.1</td>\n",
              "      <td>PRESENCIAL</td>\n",
              "      <td>BAJA</td>\n",
              "    </tr>\n",
              "    <tr>\n",
              "      <th>1</th>\n",
              "      <td>2019</td>\n",
              "      <td>ID_2</td>\n",
              "      <td>SERV_1</td>\n",
              "      <td>TAREA_1.1</td>\n",
              "      <td>PRESENCIAL</td>\n",
              "      <td>BAJA</td>\n",
              "    </tr>\n",
              "    <tr>\n",
              "      <th>2</th>\n",
              "      <td>2019</td>\n",
              "      <td>ID_3</td>\n",
              "      <td>SERV_1</td>\n",
              "      <td>TAREA_1.1</td>\n",
              "      <td>PRESENCIAL</td>\n",
              "      <td>BAJA</td>\n",
              "    </tr>\n",
              "    <tr>\n",
              "      <th>3</th>\n",
              "      <td>2019</td>\n",
              "      <td>ID_4</td>\n",
              "      <td>SERV_1</td>\n",
              "      <td>TAREA_1.1</td>\n",
              "      <td>PRESENCIAL</td>\n",
              "      <td>BAJA</td>\n",
              "    </tr>\n",
              "    <tr>\n",
              "      <th>4</th>\n",
              "      <td>2019</td>\n",
              "      <td>ID_5</td>\n",
              "      <td>SERV_1</td>\n",
              "      <td>TAREA_1.1</td>\n",
              "      <td>PRESENCIAL</td>\n",
              "      <td>BAJA</td>\n",
              "    </tr>\n",
              "    <tr>\n",
              "      <th>...</th>\n",
              "      <td>...</td>\n",
              "      <td>...</td>\n",
              "      <td>...</td>\n",
              "      <td>...</td>\n",
              "      <td>...</td>\n",
              "      <td>...</td>\n",
              "    </tr>\n",
              "    <tr>\n",
              "      <th>10379</th>\n",
              "      <td>2024</td>\n",
              "      <td>ID_4836</td>\n",
              "      <td>SERV_4</td>\n",
              "      <td>TAREA_4.3</td>\n",
              "      <td>PRESENCIAL</td>\n",
              "      <td>BAJA</td>\n",
              "    </tr>\n",
              "    <tr>\n",
              "      <th>10380</th>\n",
              "      <td>2024</td>\n",
              "      <td>ID_4836</td>\n",
              "      <td>SERV_4</td>\n",
              "      <td>TAREA_4.3</td>\n",
              "      <td>PRESENCIAL</td>\n",
              "      <td>BAJA</td>\n",
              "    </tr>\n",
              "    <tr>\n",
              "      <th>10381</th>\n",
              "      <td>2024</td>\n",
              "      <td>ID_4836</td>\n",
              "      <td>SERV_4</td>\n",
              "      <td>TAREA_4.3</td>\n",
              "      <td>PRESENCIAL</td>\n",
              "      <td>BAJA</td>\n",
              "    </tr>\n",
              "    <tr>\n",
              "      <th>10382</th>\n",
              "      <td>2024</td>\n",
              "      <td>ID_4836</td>\n",
              "      <td>SERV_4</td>\n",
              "      <td>TAREA_4.3</td>\n",
              "      <td>PRESENCIAL</td>\n",
              "      <td>BAJA</td>\n",
              "    </tr>\n",
              "    <tr>\n",
              "      <th>10383</th>\n",
              "      <td>2024</td>\n",
              "      <td>ID_4836</td>\n",
              "      <td>SERV_4</td>\n",
              "      <td>TAREA_4.3</td>\n",
              "      <td>PRESENCIAL</td>\n",
              "      <td>BAJA</td>\n",
              "    </tr>\n",
              "  </tbody>\n",
              "</table>\n",
              "<p>10384 rows × 6 columns</p>\n",
              "</div>"
            ],
            "text/plain": [
              "        AÑO  PERSONA TIPO DE SERVICIO NOMBRE DE LA TAREA   MODALIDAD  \\\n",
              "0      2019     ID_1           SERV_1          TAREA_1.1  PRESENCIAL   \n",
              "1      2019     ID_2           SERV_1          TAREA_1.1  PRESENCIAL   \n",
              "2      2019     ID_3           SERV_1          TAREA_1.1  PRESENCIAL   \n",
              "3      2019     ID_4           SERV_1          TAREA_1.1  PRESENCIAL   \n",
              "4      2019     ID_5           SERV_1          TAREA_1.1  PRESENCIAL   \n",
              "...     ...      ...              ...                ...         ...   \n",
              "10379  2024  ID_4836           SERV_4          TAREA_4.3  PRESENCIAL   \n",
              "10380  2024  ID_4836           SERV_4          TAREA_4.3  PRESENCIAL   \n",
              "10381  2024  ID_4836           SERV_4          TAREA_4.3  PRESENCIAL   \n",
              "10382  2024  ID_4836           SERV_4          TAREA_4.3  PRESENCIAL   \n",
              "10383  2024  ID_4836           SERV_4          TAREA_4.3  PRESENCIAL   \n",
              "\n",
              "      COMPLEJIDAD  \n",
              "0            BAJA  \n",
              "1            BAJA  \n",
              "2            BAJA  \n",
              "3            BAJA  \n",
              "4            BAJA  \n",
              "...           ...  \n",
              "10379        BAJA  \n",
              "10380        BAJA  \n",
              "10381        BAJA  \n",
              "10382        BAJA  \n",
              "10383        BAJA  \n",
              "\n",
              "[10384 rows x 6 columns]"
            ]
          },
          "execution_count": 20,
          "metadata": {},
          "output_type": "execute_result"
        }
      ],
      "source": [
        "df"
      ]
    },
    {
      "cell_type": "code",
      "execution_count": 21,
      "id": "d3a4d61f",
      "metadata": {},
      "outputs": [
        {
          "data": {
            "application/vnd.microsoft.datawrangler.viewer.v0+json": {
              "columns": [
                {
                  "name": "index",
                  "rawType": "int64",
                  "type": "integer"
                },
                {
                  "name": "AÑO",
                  "rawType": "int64",
                  "type": "integer"
                },
                {
                  "name": "PERSONA",
                  "rawType": "object",
                  "type": "string"
                },
                {
                  "name": "TIPO DE SERVICIO",
                  "rawType": "object",
                  "type": "string"
                },
                {
                  "name": "NOMBRE DE LA TAREA",
                  "rawType": "object",
                  "type": "string"
                },
                {
                  "name": "MODALIDAD",
                  "rawType": "object",
                  "type": "string"
                },
                {
                  "name": "COMPLEJIDAD",
                  "rawType": "object",
                  "type": "string"
                }
              ],
              "ref": "e529b776-8879-4aec-985c-23eff3e947c3",
              "rows": [
                [
                  "0",
                  "2019",
                  "ID_1",
                  "SERV_1",
                  "TAREA_1.1",
                  "PRESENCIAL",
                  "BAJA"
                ],
                [
                  "1",
                  "2019",
                  "ID_2",
                  "SERV_1",
                  "TAREA_1.1",
                  "PRESENCIAL",
                  "BAJA"
                ],
                [
                  "2",
                  "2019",
                  "ID_3",
                  "SERV_1",
                  "TAREA_1.1",
                  "PRESENCIAL",
                  "BAJA"
                ],
                [
                  "3",
                  "2019",
                  "ID_4",
                  "SERV_1",
                  "TAREA_1.1",
                  "PRESENCIAL",
                  "BAJA"
                ],
                [
                  "4",
                  "2019",
                  "ID_5",
                  "SERV_1",
                  "TAREA_1.1",
                  "PRESENCIAL",
                  "BAJA"
                ]
              ],
              "shape": {
                "columns": 6,
                "rows": 5
              }
            },
            "text/html": [
              "<div>\n",
              "<style scoped>\n",
              "    .dataframe tbody tr th:only-of-type {\n",
              "        vertical-align: middle;\n",
              "    }\n",
              "\n",
              "    .dataframe tbody tr th {\n",
              "        vertical-align: top;\n",
              "    }\n",
              "\n",
              "    .dataframe thead th {\n",
              "        text-align: right;\n",
              "    }\n",
              "</style>\n",
              "<table border=\"1\" class=\"dataframe\">\n",
              "  <thead>\n",
              "    <tr style=\"text-align: right;\">\n",
              "      <th></th>\n",
              "      <th>AÑO</th>\n",
              "      <th>PERSONA</th>\n",
              "      <th>TIPO DE SERVICIO</th>\n",
              "      <th>NOMBRE DE LA TAREA</th>\n",
              "      <th>MODALIDAD</th>\n",
              "      <th>COMPLEJIDAD</th>\n",
              "    </tr>\n",
              "  </thead>\n",
              "  <tbody>\n",
              "    <tr>\n",
              "      <th>0</th>\n",
              "      <td>2019</td>\n",
              "      <td>ID_1</td>\n",
              "      <td>SERV_1</td>\n",
              "      <td>TAREA_1.1</td>\n",
              "      <td>PRESENCIAL</td>\n",
              "      <td>BAJA</td>\n",
              "    </tr>\n",
              "    <tr>\n",
              "      <th>1</th>\n",
              "      <td>2019</td>\n",
              "      <td>ID_2</td>\n",
              "      <td>SERV_1</td>\n",
              "      <td>TAREA_1.1</td>\n",
              "      <td>PRESENCIAL</td>\n",
              "      <td>BAJA</td>\n",
              "    </tr>\n",
              "    <tr>\n",
              "      <th>2</th>\n",
              "      <td>2019</td>\n",
              "      <td>ID_3</td>\n",
              "      <td>SERV_1</td>\n",
              "      <td>TAREA_1.1</td>\n",
              "      <td>PRESENCIAL</td>\n",
              "      <td>BAJA</td>\n",
              "    </tr>\n",
              "    <tr>\n",
              "      <th>3</th>\n",
              "      <td>2019</td>\n",
              "      <td>ID_4</td>\n",
              "      <td>SERV_1</td>\n",
              "      <td>TAREA_1.1</td>\n",
              "      <td>PRESENCIAL</td>\n",
              "      <td>BAJA</td>\n",
              "    </tr>\n",
              "    <tr>\n",
              "      <th>4</th>\n",
              "      <td>2019</td>\n",
              "      <td>ID_5</td>\n",
              "      <td>SERV_1</td>\n",
              "      <td>TAREA_1.1</td>\n",
              "      <td>PRESENCIAL</td>\n",
              "      <td>BAJA</td>\n",
              "    </tr>\n",
              "  </tbody>\n",
              "</table>\n",
              "</div>"
            ],
            "text/plain": [
              "    AÑO PERSONA TIPO DE SERVICIO NOMBRE DE LA TAREA   MODALIDAD COMPLEJIDAD\n",
              "0  2019    ID_1           SERV_1          TAREA_1.1  PRESENCIAL        BAJA\n",
              "1  2019    ID_2           SERV_1          TAREA_1.1  PRESENCIAL        BAJA\n",
              "2  2019    ID_3           SERV_1          TAREA_1.1  PRESENCIAL        BAJA\n",
              "3  2019    ID_4           SERV_1          TAREA_1.1  PRESENCIAL        BAJA\n",
              "4  2019    ID_5           SERV_1          TAREA_1.1  PRESENCIAL        BAJA"
            ]
          },
          "execution_count": 21,
          "metadata": {},
          "output_type": "execute_result"
        }
      ],
      "source": [
        "df.head()"
      ]
    },
    {
      "cell_type": "markdown",
      "id": "2daa4571",
      "metadata": {},
      "source": [
        "### Datos duplicados"
      ]
    },
    {
      "cell_type": "code",
      "execution_count": 22,
      "id": "c104a703",
      "metadata": {},
      "outputs": [
        {
          "name": "stdout",
          "output_type": "stream",
          "text": [
            "Se han encontrado 3797 representando el 36.57 %\n"
          ]
        },
        {
          "data": {
            "application/vnd.microsoft.datawrangler.viewer.v0+json": {
              "columns": [
                {
                  "name": "index",
                  "rawType": "int64",
                  "type": "integer"
                },
                {
                  "name": "AÑO",
                  "rawType": "int64",
                  "type": "integer"
                },
                {
                  "name": "PERSONA",
                  "rawType": "object",
                  "type": "string"
                },
                {
                  "name": "TIPO DE SERVICIO",
                  "rawType": "object",
                  "type": "string"
                },
                {
                  "name": "NOMBRE DE LA TAREA",
                  "rawType": "object",
                  "type": "string"
                },
                {
                  "name": "MODALIDAD",
                  "rawType": "object",
                  "type": "string"
                },
                {
                  "name": "COMPLEJIDAD",
                  "rawType": "object",
                  "type": "string"
                }
              ],
              "ref": "838147a3-a284-4123-a2a8-ff90c98ac081",
              "rows": [
                [
                  "0",
                  "2019",
                  "ID_1",
                  "SERV_1",
                  "TAREA_1.1",
                  "PRESENCIAL",
                  "BAJA"
                ],
                [
                  "5",
                  "2019",
                  "ID_6",
                  "SERV_1",
                  "TAREA_1.1",
                  "PRESENCIAL",
                  "BAJA"
                ],
                [
                  "8",
                  "2019",
                  "ID_9",
                  "SERV_1",
                  "TAREA_1.1",
                  "PRESENCIAL",
                  "BAJA"
                ],
                [
                  "9",
                  "2019",
                  "ID_10",
                  "SERV_1",
                  "TAREA_1.1",
                  "PRESENCIAL",
                  "BAJA"
                ],
                [
                  "15",
                  "2019",
                  "ID_16",
                  "SERV_1",
                  "TAREA_1.1",
                  "PRESENCIAL",
                  "BAJA"
                ],
                [
                  "21",
                  "2019",
                  "ID_22",
                  "SERV_1",
                  "TAREA_1.1",
                  "PRESENCIAL",
                  "BAJA"
                ],
                [
                  "23",
                  "2019",
                  "ID_24",
                  "SERV_1",
                  "TAREA_1.1",
                  "PRESENCIAL",
                  "BAJA"
                ],
                [
                  "27",
                  "2019",
                  "ID_28",
                  "SERV_1",
                  "TAREA_1.1",
                  "PRESENCIAL",
                  "BAJA"
                ],
                [
                  "29",
                  "2019",
                  "ID_30",
                  "SERV_1",
                  "TAREA_1.1",
                  "PRESENCIAL",
                  "BAJA"
                ],
                [
                  "30",
                  "2019",
                  "ID_31",
                  "SERV_1",
                  "TAREA_1.1",
                  "PRESENCIAL",
                  "BAJA"
                ],
                [
                  "32",
                  "2019",
                  "ID_33",
                  "SERV_1",
                  "TAREA_1.1",
                  "PRESENCIAL",
                  "BAJA"
                ],
                [
                  "33",
                  "2019",
                  "ID_34",
                  "SERV_1",
                  "TAREA_1.1",
                  "PRESENCIAL",
                  "BAJA"
                ],
                [
                  "36",
                  "2019",
                  "ID_37",
                  "SERV_1",
                  "TAREA_1.1",
                  "PRESENCIAL",
                  "BAJA"
                ],
                [
                  "38",
                  "2019",
                  "ID_39",
                  "SERV_1",
                  "TAREA_1.1",
                  "PRESENCIAL",
                  "BAJA"
                ],
                [
                  "41",
                  "2019",
                  "ID_33",
                  "SERV_1",
                  "TAREA_1.1",
                  "PRESENCIAL",
                  "BAJA"
                ],
                [
                  "42",
                  "2019",
                  "ID_30",
                  "SERV_1",
                  "TAREA_1.1",
                  "PRESENCIAL",
                  "BAJA"
                ],
                [
                  "43",
                  "2019",
                  "ID_39",
                  "SERV_1",
                  "TAREA_1.1",
                  "PRESENCIAL",
                  "BAJA"
                ],
                [
                  "48",
                  "2019",
                  "ID_24",
                  "SERV_1",
                  "TAREA_1.1",
                  "PRESENCIAL",
                  "BAJA"
                ],
                [
                  "49",
                  "2019",
                  "ID_6",
                  "SERV_1",
                  "TAREA_1.1",
                  "PRESENCIAL",
                  "BAJA"
                ],
                [
                  "50",
                  "2019",
                  "ID_9",
                  "SERV_1",
                  "TAREA_1.1",
                  "PRESENCIAL",
                  "BAJA"
                ],
                [
                  "52",
                  "2019",
                  "ID_22",
                  "SERV_1",
                  "TAREA_1.1",
                  "PRESENCIAL",
                  "BAJA"
                ],
                [
                  "59",
                  "2019",
                  "ID_1",
                  "SERV_1",
                  "TAREA_1.1",
                  "PRESENCIAL",
                  "BAJA"
                ],
                [
                  "63",
                  "2019",
                  "ID_31",
                  "SERV_1",
                  "TAREA_1.1",
                  "PRESENCIAL",
                  "BAJA"
                ],
                [
                  "64",
                  "2019",
                  "ID_34",
                  "SERV_1",
                  "TAREA_1.1",
                  "PRESENCIAL",
                  "BAJA"
                ],
                [
                  "65",
                  "2019",
                  "ID_16",
                  "SERV_1",
                  "TAREA_1.1",
                  "PRESENCIAL",
                  "BAJA"
                ],
                [
                  "67",
                  "2019",
                  "ID_28",
                  "SERV_1",
                  "TAREA_1.1",
                  "PRESENCIAL",
                  "BAJA"
                ],
                [
                  "84",
                  "2019",
                  "ID_73",
                  "SERV_1",
                  "TAREA_1.1",
                  "PRESENCIAL",
                  "BAJA"
                ],
                [
                  "86",
                  "2019",
                  "ID_75",
                  "SERV_1",
                  "TAREA_1.1",
                  "PRESENCIAL",
                  "BAJA"
                ],
                [
                  "98",
                  "2019",
                  "ID_87",
                  "SERV_1",
                  "TAREA_1.1",
                  "PRESENCIAL",
                  "BAJA"
                ],
                [
                  "135",
                  "2019",
                  "ID_10",
                  "SERV_1",
                  "TAREA_1.1",
                  "PRESENCIAL",
                  "BAJA"
                ],
                [
                  "162",
                  "2019",
                  "ID_30",
                  "SERV_1",
                  "TAREA_1.1",
                  "PRESENCIAL",
                  "BAJA"
                ],
                [
                  "169",
                  "2019",
                  "ID_156",
                  "SERV_1",
                  "TAREA_1.1",
                  "PRESENCIAL",
                  "BAJA"
                ],
                [
                  "200",
                  "2019",
                  "ID_187",
                  "SERV_1",
                  "TAREA_1.1",
                  "PRESENCIAL",
                  "BAJA"
                ],
                [
                  "227",
                  "2019",
                  "ID_73",
                  "SERV_1",
                  "TAREA_1.1",
                  "PRESENCIAL",
                  "BAJA"
                ],
                [
                  "266",
                  "2019",
                  "ID_75",
                  "SERV_1",
                  "TAREA_1.1",
                  "PRESENCIAL",
                  "BAJA"
                ],
                [
                  "272",
                  "2019",
                  "ID_156",
                  "SERV_1",
                  "TAREA_1.1",
                  "PRESENCIAL",
                  "BAJA"
                ],
                [
                  "288",
                  "2019",
                  "ID_87",
                  "SERV_1",
                  "TAREA_1.1",
                  "PRESENCIAL",
                  "BAJA"
                ],
                [
                  "297",
                  "2019",
                  "ID_187",
                  "SERV_1",
                  "TAREA_1.1",
                  "PRESENCIAL",
                  "BAJA"
                ],
                [
                  "314",
                  "2019",
                  "ID_33",
                  "SERV_1",
                  "TAREA_1.1",
                  "PRESENCIAL",
                  "BAJA"
                ],
                [
                  "318",
                  "2019",
                  "ID_22",
                  "SERV_1",
                  "TAREA_1.1",
                  "PRESENCIAL",
                  "BAJA"
                ],
                [
                  "319",
                  "2019",
                  "ID_37",
                  "SERV_1",
                  "TAREA_1.1",
                  "PRESENCIAL",
                  "BAJA"
                ],
                [
                  "320",
                  "2019",
                  "ID_34",
                  "SERV_1",
                  "TAREA_1.1",
                  "PRESENCIAL",
                  "BAJA"
                ],
                [
                  "347",
                  "2020",
                  "ID_30",
                  "SERV_1",
                  "TAREA_1.1",
                  "PRESENCIAL",
                  "BAJA"
                ],
                [
                  "348",
                  "2020",
                  "ID_16",
                  "SERV_1",
                  "TAREA_1.1",
                  "PRESENCIAL",
                  "BAJA"
                ],
                [
                  "350",
                  "2020",
                  "ID_31",
                  "SERV_1",
                  "TAREA_1.1",
                  "PRESENCIAL",
                  "BAJA"
                ],
                [
                  "351",
                  "2020",
                  "ID_58",
                  "SERV_1",
                  "TAREA_1.1",
                  "PRESENCIAL",
                  "BAJA"
                ],
                [
                  "352",
                  "2020",
                  "ID_7",
                  "SERV_1",
                  "TAREA_1.1",
                  "PRESENCIAL",
                  "BAJA"
                ],
                [
                  "353",
                  "2020",
                  "ID_22",
                  "SERV_1",
                  "TAREA_1.1",
                  "PRESENCIAL",
                  "BAJA"
                ],
                [
                  "354",
                  "2020",
                  "ID_33",
                  "SERV_1",
                  "TAREA_1.1",
                  "PRESENCIAL",
                  "BAJA"
                ],
                [
                  "355",
                  "2020",
                  "ID_37",
                  "SERV_1",
                  "TAREA_1.1",
                  "PRESENCIAL",
                  "BAJA"
                ]
              ],
              "shape": {
                "columns": 6,
                "rows": 3797
              }
            },
            "text/html": [
              "<div>\n",
              "<style scoped>\n",
              "    .dataframe tbody tr th:only-of-type {\n",
              "        vertical-align: middle;\n",
              "    }\n",
              "\n",
              "    .dataframe tbody tr th {\n",
              "        vertical-align: top;\n",
              "    }\n",
              "\n",
              "    .dataframe thead th {\n",
              "        text-align: right;\n",
              "    }\n",
              "</style>\n",
              "<table border=\"1\" class=\"dataframe\">\n",
              "  <thead>\n",
              "    <tr style=\"text-align: right;\">\n",
              "      <th></th>\n",
              "      <th>AÑO</th>\n",
              "      <th>PERSONA</th>\n",
              "      <th>TIPO DE SERVICIO</th>\n",
              "      <th>NOMBRE DE LA TAREA</th>\n",
              "      <th>MODALIDAD</th>\n",
              "      <th>COMPLEJIDAD</th>\n",
              "    </tr>\n",
              "  </thead>\n",
              "  <tbody>\n",
              "    <tr>\n",
              "      <th>0</th>\n",
              "      <td>2019</td>\n",
              "      <td>ID_1</td>\n",
              "      <td>SERV_1</td>\n",
              "      <td>TAREA_1.1</td>\n",
              "      <td>PRESENCIAL</td>\n",
              "      <td>BAJA</td>\n",
              "    </tr>\n",
              "    <tr>\n",
              "      <th>5</th>\n",
              "      <td>2019</td>\n",
              "      <td>ID_6</td>\n",
              "      <td>SERV_1</td>\n",
              "      <td>TAREA_1.1</td>\n",
              "      <td>PRESENCIAL</td>\n",
              "      <td>BAJA</td>\n",
              "    </tr>\n",
              "    <tr>\n",
              "      <th>8</th>\n",
              "      <td>2019</td>\n",
              "      <td>ID_9</td>\n",
              "      <td>SERV_1</td>\n",
              "      <td>TAREA_1.1</td>\n",
              "      <td>PRESENCIAL</td>\n",
              "      <td>BAJA</td>\n",
              "    </tr>\n",
              "    <tr>\n",
              "      <th>9</th>\n",
              "      <td>2019</td>\n",
              "      <td>ID_10</td>\n",
              "      <td>SERV_1</td>\n",
              "      <td>TAREA_1.1</td>\n",
              "      <td>PRESENCIAL</td>\n",
              "      <td>BAJA</td>\n",
              "    </tr>\n",
              "    <tr>\n",
              "      <th>15</th>\n",
              "      <td>2019</td>\n",
              "      <td>ID_16</td>\n",
              "      <td>SERV_1</td>\n",
              "      <td>TAREA_1.1</td>\n",
              "      <td>PRESENCIAL</td>\n",
              "      <td>BAJA</td>\n",
              "    </tr>\n",
              "    <tr>\n",
              "      <th>...</th>\n",
              "      <td>...</td>\n",
              "      <td>...</td>\n",
              "      <td>...</td>\n",
              "      <td>...</td>\n",
              "      <td>...</td>\n",
              "      <td>...</td>\n",
              "    </tr>\n",
              "    <tr>\n",
              "      <th>10379</th>\n",
              "      <td>2024</td>\n",
              "      <td>ID_4836</td>\n",
              "      <td>SERV_4</td>\n",
              "      <td>TAREA_4.3</td>\n",
              "      <td>PRESENCIAL</td>\n",
              "      <td>BAJA</td>\n",
              "    </tr>\n",
              "    <tr>\n",
              "      <th>10380</th>\n",
              "      <td>2024</td>\n",
              "      <td>ID_4836</td>\n",
              "      <td>SERV_4</td>\n",
              "      <td>TAREA_4.3</td>\n",
              "      <td>PRESENCIAL</td>\n",
              "      <td>BAJA</td>\n",
              "    </tr>\n",
              "    <tr>\n",
              "      <th>10381</th>\n",
              "      <td>2024</td>\n",
              "      <td>ID_4836</td>\n",
              "      <td>SERV_4</td>\n",
              "      <td>TAREA_4.3</td>\n",
              "      <td>PRESENCIAL</td>\n",
              "      <td>BAJA</td>\n",
              "    </tr>\n",
              "    <tr>\n",
              "      <th>10382</th>\n",
              "      <td>2024</td>\n",
              "      <td>ID_4836</td>\n",
              "      <td>SERV_4</td>\n",
              "      <td>TAREA_4.3</td>\n",
              "      <td>PRESENCIAL</td>\n",
              "      <td>BAJA</td>\n",
              "    </tr>\n",
              "    <tr>\n",
              "      <th>10383</th>\n",
              "      <td>2024</td>\n",
              "      <td>ID_4836</td>\n",
              "      <td>SERV_4</td>\n",
              "      <td>TAREA_4.3</td>\n",
              "      <td>PRESENCIAL</td>\n",
              "      <td>BAJA</td>\n",
              "    </tr>\n",
              "  </tbody>\n",
              "</table>\n",
              "<p>3797 rows × 6 columns</p>\n",
              "</div>"
            ],
            "text/plain": [
              "        AÑO  PERSONA TIPO DE SERVICIO NOMBRE DE LA TAREA   MODALIDAD  \\\n",
              "0      2019     ID_1           SERV_1          TAREA_1.1  PRESENCIAL   \n",
              "5      2019     ID_6           SERV_1          TAREA_1.1  PRESENCIAL   \n",
              "8      2019     ID_9           SERV_1          TAREA_1.1  PRESENCIAL   \n",
              "9      2019    ID_10           SERV_1          TAREA_1.1  PRESENCIAL   \n",
              "15     2019    ID_16           SERV_1          TAREA_1.1  PRESENCIAL   \n",
              "...     ...      ...              ...                ...         ...   \n",
              "10379  2024  ID_4836           SERV_4          TAREA_4.3  PRESENCIAL   \n",
              "10380  2024  ID_4836           SERV_4          TAREA_4.3  PRESENCIAL   \n",
              "10381  2024  ID_4836           SERV_4          TAREA_4.3  PRESENCIAL   \n",
              "10382  2024  ID_4836           SERV_4          TAREA_4.3  PRESENCIAL   \n",
              "10383  2024  ID_4836           SERV_4          TAREA_4.3  PRESENCIAL   \n",
              "\n",
              "      COMPLEJIDAD  \n",
              "0            BAJA  \n",
              "5            BAJA  \n",
              "8            BAJA  \n",
              "9            BAJA  \n",
              "15           BAJA  \n",
              "...           ...  \n",
              "10379        BAJA  \n",
              "10380        BAJA  \n",
              "10381        BAJA  \n",
              "10382        BAJA  \n",
              "10383        BAJA  \n",
              "\n",
              "[3797 rows x 6 columns]"
            ]
          },
          "execution_count": 22,
          "metadata": {},
          "output_type": "execute_result"
        }
      ],
      "source": [
        "dfDuplicated = df[df.duplicated(keep=False)]\n",
        "\n",
        "print(f\"Se han encontrado {dfDuplicated.shape[0]} representando el {dfDuplicated.shape[0] * 100 / df.shape[0]:.2f} %\")\n",
        "\n",
        "dfDuplicated"
      ]
    },
    {
      "cell_type": "markdown",
      "id": "c65b5752",
      "metadata": {},
      "source": [
        "Se han decido remover ya que no brinda informacion adicional al dataset"
      ]
    },
    {
      "cell_type": "code",
      "execution_count": 23,
      "id": "48e8924a",
      "metadata": {},
      "outputs": [],
      "source": [
        "df.drop_duplicates(inplace=True)"
      ]
    },
    {
      "cell_type": "code",
      "execution_count": 24,
      "id": "4462170b",
      "metadata": {},
      "outputs": [
        {
          "data": {
            "application/vnd.microsoft.datawrangler.viewer.v0+json": {
              "columns": [
                {
                  "name": "TIPO DE SERVICIO",
                  "rawType": "object",
                  "type": "string"
                },
                {
                  "name": "count",
                  "rawType": "int64",
                  "type": "integer"
                }
              ],
              "ref": "303c23ae-7f21-494d-942e-6ad7cacc51fd",
              "rows": [
                [
                  "SERV_2",
                  "3441"
                ],
                [
                  "SERV_1",
                  "3260"
                ],
                [
                  "SERV_4",
                  "681"
                ],
                [
                  "SERV_5",
                  "295"
                ],
                [
                  "SERV_6",
                  "119"
                ],
                [
                  "SERV_7",
                  "111"
                ],
                [
                  "SERV_3",
                  "48"
                ]
              ],
              "shape": {
                "columns": 1,
                "rows": 7
              }
            },
            "text/plain": [
              "TIPO DE SERVICIO\n",
              "SERV_2    3441\n",
              "SERV_1    3260\n",
              "SERV_4     681\n",
              "SERV_5     295\n",
              "SERV_6     119\n",
              "SERV_7     111\n",
              "SERV_3      48\n",
              "Name: count, dtype: int64"
            ]
          },
          "execution_count": 24,
          "metadata": {},
          "output_type": "execute_result"
        }
      ],
      "source": [
        "df['TIPO DE SERVICIO'].value_counts()"
      ]
    },
    {
      "cell_type": "code",
      "execution_count": 25,
      "id": "0b363917",
      "metadata": {},
      "outputs": [
        {
          "data": {
            "application/vnd.microsoft.datawrangler.viewer.v0+json": {
              "columns": [
                {
                  "name": "NOMBRE DE LA TAREA",
                  "rawType": "object",
                  "type": "string"
                },
                {
                  "name": "count",
                  "rawType": "int64",
                  "type": "integer"
                }
              ],
              "ref": "51b1df32-8a76-4bee-bd76-6f2f24f37df9",
              "rows": [
                [
                  "TAREA_2.2",
                  "2709"
                ],
                [
                  "TAREA_1.1",
                  "2653"
                ],
                [
                  "TAREA_2.1",
                  "732"
                ],
                [
                  "TAREA_1.2",
                  "604"
                ],
                [
                  "TAREA_4.3",
                  "331"
                ],
                [
                  "TAREA_4.1",
                  "306"
                ],
                [
                  "TAREA_5.1",
                  "188"
                ],
                [
                  "TAREA_6.1",
                  "119"
                ],
                [
                  "TAREA_7.1",
                  "111"
                ],
                [
                  "TAREA_5.2",
                  "91"
                ],
                [
                  "TAREA_3.1",
                  "41"
                ],
                [
                  "TAREA_4.4",
                  "37"
                ],
                [
                  "TAREA_5.3",
                  "16"
                ],
                [
                  "TAREA_4.2",
                  "7"
                ],
                [
                  "TAREA_3.2",
                  "3"
                ],
                [
                  "TAREA_3.3",
                  "3"
                ],
                [
                  "TAREA_1.3",
                  "3"
                ],
                [
                  "TAREA_3.4",
                  "1"
                ]
              ],
              "shape": {
                "columns": 1,
                "rows": 18
              }
            },
            "text/plain": [
              "NOMBRE DE LA TAREA\n",
              "TAREA_2.2    2709\n",
              "TAREA_1.1    2653\n",
              "TAREA_2.1     732\n",
              "TAREA_1.2     604\n",
              "TAREA_4.3     331\n",
              "TAREA_4.1     306\n",
              "TAREA_5.1     188\n",
              "TAREA_6.1     119\n",
              "TAREA_7.1     111\n",
              "TAREA_5.2      91\n",
              "TAREA_3.1      41\n",
              "TAREA_4.4      37\n",
              "TAREA_5.3      16\n",
              "TAREA_4.2       7\n",
              "TAREA_3.2       3\n",
              "TAREA_3.3       3\n",
              "TAREA_1.3       3\n",
              "TAREA_3.4       1\n",
              "Name: count, dtype: int64"
            ]
          },
          "execution_count": 25,
          "metadata": {},
          "output_type": "execute_result"
        }
      ],
      "source": [
        "df['NOMBRE DE LA TAREA'].value_counts()"
      ]
    },
    {
      "cell_type": "code",
      "execution_count": 26,
      "id": "7bfd0d1f",
      "metadata": {},
      "outputs": [
        {
          "data": {
            "image/png": "[encoded data removed]",
            "text/plain": [
              "<Figure size 1000x700 with 1 Axes>"
            ]
          },
          "metadata": {},
          "output_type": "display_data"
        }
      ],
      "source": [
        "plt.figure(figsize=(10, 7))\n",
        "sns.countplot(data=df, x='COMPLEJIDAD', hue='MODALIDAD', order=['BAJA', 'MEDIANA', 'ALTA'])\n",
        "plt.title('Relación entre Complejidad y Modalidad de Tareas')\n",
        "plt.xlabel('Complejidad')\n",
        "plt.ylabel('Cantidad')\n",
        "plt.legend(title='Modalidad')\n",
        "plt.show()"
      ]
    },
    {
      "cell_type": "code",
      "execution_count": 27,
      "id": "e4ca00d7",
      "metadata": {},
      "outputs": [],
      "source": [
        "B = nx.Graph()\n",
        "\n",
        "clientes = df['PERSONA'].unique()\n",
        "servicios = df['TIPO DE SERVICIO'].unique()\n",
        "B.add_nodes_from(clientes, bipartite=0)\n",
        "B.add_nodes_from(servicios, bipartite=1)\n",
        "\n",
        "B.add_edges_from([tuple(x) for x in df[['PERSONA', 'TIPO DE SERVICIO']].values])\n",
        "\n",
        "G_clientes = bipartite.projected_graph(B, clientes)"
      ]
    },
    {
      "cell_type": "code",
      "execution_count": 28,
      "id": "904507f0",
      "metadata": {},
      "outputs": [
        {
          "name": "stdout",
          "output_type": "stream",
          "text": [
            "5090\n",
            "7189307\n",
            "0.5550943307360805\n"
          ]
        }
      ],
      "source": [
        "print(G_clientes.number_of_nodes())\n",
        "print(G_clientes.number_of_edges())\n",
        "print(nx.density(G_clientes))"
      ]
    },
    {
      "cell_type": "code",
      "execution_count": 29,
      "id": "0ea00f0e",
      "metadata": {},
      "outputs": [
        {
          "data": {
            "image/png": "[encoded data removed]",
            "text/plain": [
              "<Figure size 640x480 with 1 Axes>"
            ]
          },
          "metadata": {},
          "output_type": "display_data"
        }
      ],
      "source": [
        "nx.draw(G_clientes)"
      ]
    },
    {
      "cell_type": "code",
      "execution_count": 30,
      "id": "3e45c33e",
      "metadata": {},
      "outputs": [
        {
          "data": {
            "image/png": "[encoded data removed]",
            "text/plain": [
              "<Figure size 640x480 with 1 Axes>"
            ]
          },
          "metadata": {},
          "output_type": "display_data"
        }
      ],
      "source": [
        "sns.countplot(y='TIPO DE SERVICIO', data=df)\n",
        "plt.title('Distribución de Tipos de Servicio')\n",
        "plt.xlabel('Número de Servicios')\n",
        "plt.ylabel('Tipo de Servicio')\n",
        "plt.show()"
      ]
    },
    {
      "cell_type": "code",
      "execution_count": 31,
      "id": "a8be7295",
      "metadata": {},
      "outputs": [
        {
          "data": {
            "image/png": "[encoded data removed]",
            "text/plain": [
              "<Figure size 640x480 with 1 Axes>"
            ]
          },
          "metadata": {},
          "output_type": "display_data"
        }
      ],
      "source": [
        "grados = [val for (node, val) in G_clientes.degree()]\n",
        "\n",
        "plt.hist(grados, bins=50)\n",
        "plt.title('Distribución de Grado de la Red de Clientes')\n",
        "plt.xlabel('Grado (Número de conexiones)')\n",
        "plt.ylabel('Número de Clientes')\n",
        "plt.show()"
      ]
    },
    {
      "cell_type": "code",
      "execution_count": 32,
      "id": "1c672fd9",
      "metadata": {},
      "outputs": [
        {
          "name": "stdout",
          "output_type": "stream",
          "text": [
            "La red tiene 1 componente(s) conectado(s).\n"
          ]
        }
      ],
      "source": [
        "num_componentes = nx.number_connected_components(G_clientes)\n",
        "print(f\"La red tiene {num_componentes} componente(s) conectado(s).\")"
      ]
    },
    {
      "cell_type": "code",
      "execution_count": 33,
      "id": "3900926b",
      "metadata": {},
      "outputs": [],
      "source": [
        "def random_node(g):\n",
        "    return[np.random.choice(g.nodes())]\n",
        "\n",
        "def dismantle(g, function, **args): #remover nodoss de forma incremetnal y calcular el tamaños de los componentes conectados\n",
        "    total_nodes=g.number_of_nodes()\n",
        "    removed_nodes=[]\n",
        "    components=[]\n",
        "    while len(g.nodes())>1:\n",
        "        n=function(g,**args)[0]\n",
        "        g.remove_node(n)\n",
        "        removed_nodes.append((len(removed_nodes)+1)/total_nodes)\n",
        "        comps=list(nx.connected_components(g))\n",
        "        g_size=0\n",
        "        if len(comps)>0:\n",
        "            g_size=max(len(c) for c in comps)/total_nodes\n",
        "        components.append(g_size)\n",
        "    return removed_nodes, components\n",
        "\n",
        "\n",
        "def plot_dismantle(x,y):\n",
        "    plt.plot(x,y)\n",
        "    plt.xlabel(\"removed nodes\") \n",
        "    plt.ylabel(\"giant component size\")\n",
        "    plt.show()\n",
        "\n"
      ]
    },
    {
      "cell_type": "code",
      "execution_count": 34,
      "id": "7115577e",
      "metadata": {},
      "outputs": [
        {
          "data": {
            "image/png": "[encoded data removed]",
            "text/plain": [
              "<Figure size 640x480 with 1 Axes>"
            ]
          },
          "metadata": {},
          "output_type": "display_data"
        }
      ],
      "source": [
        "h=G_clientes.copy()\n",
        "rn , comps=dismantle(h,random_node)\n",
        "plot_dismantle(rn,comps)"
      ]
    },
    {
      "cell_type": "code",
      "execution_count": 35,
      "id": "0ec03052",
      "metadata": {},
      "outputs": [],
      "source": [
        "def get_sorted_nodes(g,score,reverse=True): \n",
        "    nodes=score(g)\n",
        "    if isinstance(nodes,dict):\n",
        "        nodes=[(k,v) for k,v in nodes.items()]\n",
        "    srt=sorted(nodes,key=lambda k:k[1],reverse=reverse)\n",
        "    return [x[0] for x in srt]"
      ]
    },
    {
      "cell_type": "code",
      "execution_count": 36,
      "id": "cfbcc7ff",
      "metadata": {},
      "outputs": [
        {
          "data": {
            "image/png": "[encoded data removed]",
            "text/plain": [
              "<Figure size 640x480 with 1 Axes>"
            ]
          },
          "metadata": {},
          "output_type": "display_data"
        }
      ],
      "source": [
        "h=G_clientes.copy()\n",
        "rn , comps=dismantle(h,get_sorted_nodes ,score=nx.degree)\n",
        "plot_dismantle(rn,comps)"
      ]
    }
  ],
  "metadata": {
    "kernelspec": {
      "display_name": "ComplexNetworks",
      "language": "python",
      "name": "python3"
    },
    "language_info": {
      "codemirror_mode": {
        "name": "ipython",
        "version": 3
      },
      "file_extension": ".py",
      "mimetype": "text/x-python",
      "name": "python",
      "nbconvert_exporter": "python",
      "pygments_lexer": "ipython3",
      "version": "3.13.0"
    }
  },
  "nbformat": 4,
  "nbformat_minor": 5
}
