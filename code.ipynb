{
 "cells": [
  {
   "cell_type": "code",
   "execution_count": 4,
   "id": "2126ab2b",
   "metadata": {},
   "outputs": [],
   "source": [
    "import pandas as pd"
   ]
  },
  {
   "cell_type": "code",
   "execution_count": 5,
   "id": "aa7f12e3",
   "metadata": {},
   "outputs": [
    {
     "data": {
      "application/vnd.microsoft.datawrangler.viewer.v0+json": {
       "columns": [
        {
         "name": "index",
         "rawType": "int64",
         "type": "integer"
        },
        {
         "name": "AÑO",
         "rawType": "int64",
         "type": "integer"
        },
        {
         "name": "PERSONA",
         "rawType": "object",
         "type": "string"
        },
        {
         "name": "TIPO DE SERVICIO",
         "rawType": "object",
         "type": "string"
        },
        {
         "name": "NOMBRE DE LA TAREA",
         "rawType": "object",
         "type": "string"
        },
        {
         "name": "MODALIDAD",
         "rawType": "object",
         "type": "string"
        },
        {
         "name": "COMPLEJIDAD",
         "rawType": "object",
         "type": "string"
        }
       ],
       "ref": "fa4405ef-ccc5-497c-9d89-684d05d4edb0",
       "rows": [
        [
         "0",
         "2019",
         "ID_1",
         "SERV_1",
         "TAREA_1.1",
         "PRESENCIAL",
         "BAJA"
        ],
        [
         "1",
         "2019",
         "ID_2",
         "SERV_1",
         "TAREA_1.1",
         "PRESENCIAL",
         "BAJA"
        ],
        [
         "2",
         "2019",
         "ID_3",
         "SERV_1",
         "TAREA_1.1",
         "PRESENCIAL",
         "BAJA"
        ],
        [
         "3",
         "2019",
         "ID_4",
         "SERV_1",
         "TAREA_1.1",
         "PRESENCIAL",
         "BAJA"
        ],
        [
         "4",
         "2019",
         "ID_5",
         "SERV_1",
         "TAREA_1.1",
         "PRESENCIAL",
         "BAJA"
        ],
        [
         "5",
         "2019",
         "ID_6",
         "SERV_1",
         "TAREA_1.1",
         "PRESENCIAL",
         "BAJA"
        ],
        [
         "6",
         "2019",
         "ID_7",
         "SERV_1",
         "TAREA_1.1",
         "PRESENCIAL",
         "BAJA"
        ],
        [
         "7",
         "2019",
         "ID_8",
         "SERV_1",
         "TAREA_1.1",
         "PRESENCIAL",
         "BAJA"
        ],
        [
         "8",
         "2019",
         "ID_9",
         "SERV_1",
         "TAREA_1.1",
         "PRESENCIAL",
         "BAJA"
        ],
        [
         "9",
         "2019",
         "ID_10",
         "SERV_1",
         "TAREA_1.1",
         "PRESENCIAL",
         "BAJA"
        ],
        [
         "10",
         "2019",
         "ID_11",
         "SERV_1",
         "TAREA_1.1",
         "PRESENCIAL",
         "BAJA"
        ],
        [
         "11",
         "2019",
         "ID_12",
         "SERV_1",
         "TAREA_1.1",
         "PRESENCIAL",
         "BAJA"
        ],
        [
         "12",
         "2019",
         "ID_13",
         "SERV_1",
         "TAREA_1.1",
         "PRESENCIAL",
         "BAJA"
        ],
        [
         "13",
         "2019",
         "ID_14",
         "SERV_1",
         "TAREA_1.1",
         "PRESENCIAL",
         "BAJA"
        ],
        [
         "14",
         "2019",
         "ID_15",
         "SERV_1",
         "TAREA_1.1",
         "PRESENCIAL",
         "BAJA"
        ],
        [
         "15",
         "2019",
         "ID_16",
         "SERV_1",
         "TAREA_1.1",
         "PRESENCIAL",
         "BAJA"
        ],
        [
         "16",
         "2019",
         "ID_17",
         "SERV_1",
         "TAREA_1.1",
         "PRESENCIAL",
         "BAJA"
        ],
        [
         "17",
         "2019",
         "ID_18",
         "SERV_1",
         "TAREA_1.1",
         "PRESENCIAL",
         "BAJA"
        ],
        [
         "18",
         "2019",
         "ID_19",
         "SERV_1",
         "TAREA_1.1",
         "PRESENCIAL",
         "BAJA"
        ],
        [
         "19",
         "2019",
         "ID_20",
         "SERV_1",
         "TAREA_1.1",
         "PRESENCIAL",
         "BAJA"
        ],
        [
         "20",
         "2019",
         "ID_21",
         "SERV_1",
         "TAREA_1.1",
         "PRESENCIAL",
         "BAJA"
        ],
        [
         "21",
         "2019",
         "ID_22",
         "SERV_1",
         "TAREA_1.1",
         "PRESENCIAL",
         "BAJA"
        ],
        [
         "22",
         "2019",
         "ID_23",
         "SERV_1",
         "TAREA_1.1",
         "PRESENCIAL",
         "BAJA"
        ],
        [
         "23",
         "2019",
         "ID_24",
         "SERV_1",
         "TAREA_1.1",
         "PRESENCIAL",
         "BAJA"
        ],
        [
         "24",
         "2019",
         "ID_25",
         "SERV_1",
         "TAREA_1.1",
         "PRESENCIAL",
         "BAJA"
        ],
        [
         "25",
         "2019",
         "ID_26",
         "SERV_1",
         "TAREA_1.1",
         "PRESENCIAL",
         "BAJA"
        ],
        [
         "26",
         "2019",
         "ID_27",
         "SERV_1",
         "TAREA_1.1",
         "PRESENCIAL",
         "BAJA"
        ],
        [
         "27",
         "2019",
         "ID_28",
         "SERV_1",
         "TAREA_1.1",
         "PRESENCIAL",
         "BAJA"
        ],
        [
         "28",
         "2019",
         "ID_29",
         "SERV_1",
         "TAREA_1.1",
         "PRESENCIAL",
         "BAJA"
        ],
        [
         "29",
         "2019",
         "ID_30",
         "SERV_1",
         "TAREA_1.1",
         "PRESENCIAL",
         "BAJA"
        ],
        [
         "30",
         "2019",
         "ID_31",
         "SERV_1",
         "TAREA_1.1",
         "PRESENCIAL",
         "BAJA"
        ],
        [
         "31",
         "2019",
         "ID_32",
         "SERV_1",
         "TAREA_1.1",
         "PRESENCIAL",
         "BAJA"
        ],
        [
         "32",
         "2019",
         "ID_33",
         "SERV_1",
         "TAREA_1.1",
         "PRESENCIAL",
         "BAJA"
        ],
        [
         "33",
         "2019",
         "ID_34",
         "SERV_1",
         "TAREA_1.1",
         "PRESENCIAL",
         "BAJA"
        ],
        [
         "34",
         "2019",
         "ID_35",
         "SERV_1",
         "TAREA_1.1",
         "PRESENCIAL",
         "BAJA"
        ],
        [
         "35",
         "2019",
         "ID_36",
         "SERV_1",
         "TAREA_1.1",
         "PRESENCIAL",
         "BAJA"
        ],
        [
         "36",
         "2019",
         "ID_37",
         "SERV_1",
         "TAREA_1.1",
         "PRESENCIAL",
         "BAJA"
        ],
        [
         "37",
         "2019",
         "ID_38",
         "SERV_1",
         "TAREA_1.1",
         "PRESENCIAL",
         "BAJA"
        ],
        [
         "38",
         "2019",
         "ID_39",
         "SERV_1",
         "TAREA_1.1",
         "PRESENCIAL",
         "BAJA"
        ],
        [
         "39",
         "2019",
         "ID_40",
         "SERV_1",
         "TAREA_1.1",
         "PRESENCIAL",
         "BAJA"
        ],
        [
         "40",
         "2019",
         "ID_41",
         "SERV_1",
         "TAREA_1.1",
         "PRESENCIAL",
         "BAJA"
        ],
        [
         "41",
         "2019",
         "ID_33",
         "SERV_1",
         "TAREA_1.1",
         "PRESENCIAL",
         "BAJA"
        ],
        [
         "42",
         "2019",
         "ID_30",
         "SERV_1",
         "TAREA_1.1",
         "PRESENCIAL",
         "BAJA"
        ],
        [
         "43",
         "2019",
         "ID_39",
         "SERV_1",
         "TAREA_1.1",
         "PRESENCIAL",
         "BAJA"
        ],
        [
         "44",
         "2019",
         "ID_42",
         "SERV_1",
         "TAREA_1.1",
         "PRESENCIAL",
         "BAJA"
        ],
        [
         "45",
         "2019",
         "ID_43",
         "SERV_1",
         "TAREA_1.1",
         "PRESENCIAL",
         "BAJA"
        ],
        [
         "46",
         "2019",
         "ID_44",
         "SERV_1",
         "TAREA_1.1",
         "PRESENCIAL",
         "BAJA"
        ],
        [
         "47",
         "2019",
         "ID_45",
         "SERV_1",
         "TAREA_1.1",
         "PRESENCIAL",
         "BAJA"
        ],
        [
         "48",
         "2019",
         "ID_24",
         "SERV_1",
         "TAREA_1.1",
         "PRESENCIAL",
         "BAJA"
        ],
        [
         "49",
         "2019",
         "ID_6",
         "SERV_1",
         "TAREA_1.1",
         "PRESENCIAL",
         "BAJA"
        ]
       ],
       "shape": {
        "columns": 6,
        "rows": 10384
       }
      },
      "text/html": [
       "<div>\n",
       "<style scoped>\n",
       "    .dataframe tbody tr th:only-of-type {\n",
       "        vertical-align: middle;\n",
       "    }\n",
       "\n",
       "    .dataframe tbody tr th {\n",
       "        vertical-align: top;\n",
       "    }\n",
       "\n",
       "    .dataframe thead th {\n",
       "        text-align: right;\n",
       "    }\n",
       "</style>\n",
       "<table border=\"1\" class=\"dataframe\">\n",
       "  <thead>\n",
       "    <tr style=\"text-align: right;\">\n",
       "      <th></th>\n",
       "      <th>AÑO</th>\n",
       "      <th>PERSONA</th>\n",
       "      <th>TIPO DE SERVICIO</th>\n",
       "      <th>NOMBRE DE LA TAREA</th>\n",
       "      <th>MODALIDAD</th>\n",
       "      <th>COMPLEJIDAD</th>\n",
       "    </tr>\n",
       "  </thead>\n",
       "  <tbody>\n",
       "    <tr>\n",
       "      <th>0</th>\n",
       "      <td>2019</td>\n",
       "      <td>ID_1</td>\n",
       "      <td>SERV_1</td>\n",
       "      <td>TAREA_1.1</td>\n",
       "      <td>PRESENCIAL</td>\n",
       "      <td>BAJA</td>\n",
       "    </tr>\n",
       "    <tr>\n",
       "      <th>1</th>\n",
       "      <td>2019</td>\n",
       "      <td>ID_2</td>\n",
       "      <td>SERV_1</td>\n",
       "      <td>TAREA_1.1</td>\n",
       "      <td>PRESENCIAL</td>\n",
       "      <td>BAJA</td>\n",
       "    </tr>\n",
       "    <tr>\n",
       "      <th>2</th>\n",
       "      <td>2019</td>\n",
       "      <td>ID_3</td>\n",
       "      <td>SERV_1</td>\n",
       "      <td>TAREA_1.1</td>\n",
       "      <td>PRESENCIAL</td>\n",
       "      <td>BAJA</td>\n",
       "    </tr>\n",
       "    <tr>\n",
       "      <th>3</th>\n",
       "      <td>2019</td>\n",
       "      <td>ID_4</td>\n",
       "      <td>SERV_1</td>\n",
       "      <td>TAREA_1.1</td>\n",
       "      <td>PRESENCIAL</td>\n",
       "      <td>BAJA</td>\n",
       "    </tr>\n",
       "    <tr>\n",
       "      <th>4</th>\n",
       "      <td>2019</td>\n",
       "      <td>ID_5</td>\n",
       "      <td>SERV_1</td>\n",
       "      <td>TAREA_1.1</td>\n",
       "      <td>PRESENCIAL</td>\n",
       "      <td>BAJA</td>\n",
       "    </tr>\n",
       "    <tr>\n",
       "      <th>...</th>\n",
       "      <td>...</td>\n",
       "      <td>...</td>\n",
       "      <td>...</td>\n",
       "      <td>...</td>\n",
       "      <td>...</td>\n",
       "      <td>...</td>\n",
       "    </tr>\n",
       "    <tr>\n",
       "      <th>10379</th>\n",
       "      <td>2024</td>\n",
       "      <td>ID_4836</td>\n",
       "      <td>SERV_4</td>\n",
       "      <td>TAREA_4.3</td>\n",
       "      <td>PRESENCIAL</td>\n",
       "      <td>BAJA</td>\n",
       "    </tr>\n",
       "    <tr>\n",
       "      <th>10380</th>\n",
       "      <td>2024</td>\n",
       "      <td>ID_4836</td>\n",
       "      <td>SERV_4</td>\n",
       "      <td>TAREA_4.3</td>\n",
       "      <td>PRESENCIAL</td>\n",
       "      <td>BAJA</td>\n",
       "    </tr>\n",
       "    <tr>\n",
       "      <th>10381</th>\n",
       "      <td>2024</td>\n",
       "      <td>ID_4836</td>\n",
       "      <td>SERV_4</td>\n",
       "      <td>TAREA_4.3</td>\n",
       "      <td>PRESENCIAL</td>\n",
       "      <td>BAJA</td>\n",
       "    </tr>\n",
       "    <tr>\n",
       "      <th>10382</th>\n",
       "      <td>2024</td>\n",
       "      <td>ID_4836</td>\n",
       "      <td>SERV_4</td>\n",
       "      <td>TAREA_4.3</td>\n",
       "      <td>PRESENCIAL</td>\n",
       "      <td>BAJA</td>\n",
       "    </tr>\n",
       "    <tr>\n",
       "      <th>10383</th>\n",
       "      <td>2024</td>\n",
       "      <td>ID_4836</td>\n",
       "      <td>SERV_4</td>\n",
       "      <td>TAREA_4.3</td>\n",
       "      <td>PRESENCIAL</td>\n",
       "      <td>BAJA</td>\n",
       "    </tr>\n",
       "  </tbody>\n",
       "</table>\n",
       "<p>10384 rows × 6 columns</p>\n",
       "</div>"
      ],
      "text/plain": [
       "        AÑO  PERSONA TIPO DE SERVICIO NOMBRE DE LA TAREA   MODALIDAD  \\\n",
       "0      2019     ID_1           SERV_1          TAREA_1.1  PRESENCIAL   \n",
       "1      2019     ID_2           SERV_1          TAREA_1.1  PRESENCIAL   \n",
       "2      2019     ID_3           SERV_1          TAREA_1.1  PRESENCIAL   \n",
       "3      2019     ID_4           SERV_1          TAREA_1.1  PRESENCIAL   \n",
       "4      2019     ID_5           SERV_1          TAREA_1.1  PRESENCIAL   \n",
       "...     ...      ...              ...                ...         ...   \n",
       "10379  2024  ID_4836           SERV_4          TAREA_4.3  PRESENCIAL   \n",
       "10380  2024  ID_4836           SERV_4          TAREA_4.3  PRESENCIAL   \n",
       "10381  2024  ID_4836           SERV_4          TAREA_4.3  PRESENCIAL   \n",
       "10382  2024  ID_4836           SERV_4          TAREA_4.3  PRESENCIAL   \n",
       "10383  2024  ID_4836           SERV_4          TAREA_4.3  PRESENCIAL   \n",
       "\n",
       "      COMPLEJIDAD  \n",
       "0            BAJA  \n",
       "1            BAJA  \n",
       "2            BAJA  \n",
       "3            BAJA  \n",
       "4            BAJA  \n",
       "...           ...  \n",
       "10379        BAJA  \n",
       "10380        BAJA  \n",
       "10381        BAJA  \n",
       "10382        BAJA  \n",
       "10383        BAJA  \n",
       "\n",
       "[10384 rows x 6 columns]"
      ]
     },
     "execution_count": 5,
     "metadata": {},
     "output_type": "execute_result"
    }
   ],
   "source": [
    "df = pd.read_excel(\"./datosRed.xlsx\", sheet_name=\"Anonimizado\")\n",
    "df"
   ]
  },
  {
   "cell_type": "code",
   "execution_count": null,
   "id": "12a17f37",
   "metadata": {},
   "outputs": [],
   "source": []
  }
 ],
 "metadata": {
  "kernelspec": {
   "display_name": "ComplexNetworks",
   "language": "python",
   "name": "python3"
  },
  "language_info": {
   "codemirror_mode": {
    "name": "ipython",
    "version": 3
   },
   "file_extension": ".py",
   "mimetype": "text/x-python",
   "name": "python",
   "nbconvert_exporter": "python",
   "pygments_lexer": "ipython3",
   "version": "3.13.0"
  }
 },
 "nbformat": 4,
 "nbformat_minor": 5
}
